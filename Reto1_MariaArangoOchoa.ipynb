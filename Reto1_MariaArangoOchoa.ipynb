{
  "nbformat": 4,
  "nbformat_minor": 0,
  "metadata": {
    "colab": {
      "provenance": [],
      "include_colab_link": true
    },
    "kernelspec": {
      "name": "python3",
      "display_name": "Python 3"
    },
    "language_info": {
      "name": "python"
    }
  },
  "cells": [
    {
      "cell_type": "markdown",
      "metadata": {
        "id": "view-in-github",
        "colab_type": "text"
      },
      "source": [
        "<a href=\"https://colab.research.google.com/github/MariaArangoOchoa/Anal-tica-de-Negocios-/blob/main/Reto1_MariaArangoOchoa.ipynb\" target=\"_parent\"><img src=\"https://colab.research.google.com/assets/colab-badge.svg\" alt=\"Open In Colab\"/></a>"
      ]
    },
    {
      "cell_type": "code",
      "execution_count": null,
      "metadata": {
        "id": "MaCwNToPYnjv"
      },
      "outputs": [],
      "source": []
    },
    {
      "cell_type": "markdown",
      "source": [
        "\n",
        "\n",
        "**Modelo de PreAprobación - Naive Bayes**\n",
        "0. Se procede con la carga de las librerías de trabajo"
      ],
      "metadata": {
        "id": "C1JV-mcUZQtw"
      }
    },
    {
      "cell_type": "code",
      "source": [
        "import numpy as np\n",
        "import pandas as pd\n",
        "from sklearn.naive_bayes import GaussianNB\n",
        "from sklearn.metrics import confusion_matrix"
      ],
      "metadata": {
        "id": "PF0F83rkZSBC"
      },
      "execution_count": null,
      "outputs": []
    },
    {
      "cell_type": "markdown",
      "source": [
        "1. Se cargan los datos"
      ],
      "metadata": {
        "id": "05PtwlJfZZ1F"
      }
    },
    {
      "cell_type": "code",
      "source": [
        "nxl='/content/1. BD1_Longitudinal Survey.xlsx'\n",
        "XDB=pd.read_excel(nxl,sheet_name=1)\n",
        "XDB.dropna(inplace=True)\n",
        "\n",
        "\n",
        "XDB=XDB[['Age', 'Mother_Edu', 'Father_Edu', 'FamilySize', 'Self_Esteem', 'Height', 'Weight', 'Income', 'Urban']]\n",
        "XD=np.array(XDB[['Age', 'Mother_Edu', 'Father_Edu', 'FamilySize', 'Self_Esteem', 'Height', 'Weight', 'Income']])\n",
        "yd=np.array(XDB['Urban'])\n",
        "\n",
        "print(XDB)\n",
        "\n",
        "tamano= len(XDB)\n",
        "\n",
        "print(\"El tamaño de la base de datos es de: \",tamano)\n",
        "\n",
        "XDB_urb = np.where(yd==1)[0]\n",
        "len(XDB_urb)\n",
        "pct_urb=len(XDB_urb)/tamano*100\n",
        "print(\"El porcentaje de personas que viven el el area urbana es de: \", pct_urb, \"%\")\n",
        "\n",
        "XDB_rur = np.where(yd==0)[0]\n",
        "len(XDB_rur)\n",
        "pct_rur=len(XDB_rur)/tamano*100\n",
        "print(\"El porcentaje de personas que viven el el area rural es de: \", pct_rur, \"%\")"
      ],
      "metadata": {
        "colab": {
          "base_uri": "https://localhost:8080/"
        },
        "id": "rZJX23rVZcS6",
        "outputId": "38d77147-6ddb-4175-dea7-8cb986fb2854"
      },
      "execution_count": null,
      "outputs": [
        {
          "output_type": "stream",
          "name": "stdout",
          "text": [
            "       Age  Mother_Edu  Father_Edu  FamilySize  Self_Esteem  Height  Weight  \\\n",
            "1       20         5.0         8.0           5         16.0    62.0   120.0   \n",
            "5       19        12.0        12.0           4         27.0    64.0   200.0   \n",
            "6       15        12.0        12.0           3         26.0    65.0   131.0   \n",
            "7       21         9.0         6.0           3         23.0    65.0   179.0   \n",
            "8       16        12.0        10.0           6         26.0    66.0   145.0   \n",
            "...    ...         ...         ...         ...          ...     ...     ...   \n",
            "12557   20        12.0        12.0           5         20.0    60.0   110.0   \n",
            "12565   20        12.0        11.0           2         24.0    63.0   152.0   \n",
            "12647   21        16.0        12.0           1         30.0    70.0   180.0   \n",
            "12651   21        16.0        16.0           1         27.0    73.0   170.0   \n",
            "12678   21         8.0         8.0           1         19.0    70.0   180.0   \n",
            "\n",
            "        Income  Urban  \n",
            "1          0.0    1.0  \n",
            "5      40000.0    1.0  \n",
            "6      25000.0    1.0  \n",
            "7      27400.0    1.0  \n",
            "8      52000.0    1.0  \n",
            "...        ...    ...  \n",
            "12557   1000.0    1.0  \n",
            "12565  38000.0    1.0  \n",
            "12647  43600.0    1.0  \n",
            "12651  40000.0    1.0  \n",
            "12678  17000.0    0.0  \n",
            "\n",
            "[5683 rows x 9 columns]\n",
            "El tamaño de la base de datos es de:  5683\n",
            "El porcentaje de personas que viven el el area urbana es de:  79.35949322540911 %\n",
            "El porcentaje de personas que viven el el area rural es de:  20.640506774590886 %\n"
          ]
        }
      ]
    },
    {
      "cell_type": "markdown",
      "source": [
        "2. Implementamos Modelo"
      ],
      "metadata": {
        "id": "A0b1xFat7Vau"
      }
    },
    {
      "cell_type": "code",
      "source": [
        "mnb=GaussianNB()\n",
        "mnb.fit(XD,yd)\n",
        "ydp=mnb.predict(XD)\n",
        "\n",
        "u=mnb.theta_\n",
        "sigma=np.sqrt(mnb.var_)\n",
        "\n",
        "LI=u-sigma\n",
        "LS=u+sigma\n",
        "\n",
        "print(\"la media de las variables por categoría:\")\n",
        "print(u)\n",
        "print(\"El límite inferior de la variación de las variables por categoría es\")\n",
        "print(LI)\n",
        "print(\"El límite superior de la variación de las variables por categoría es:\")\n",
        "print(LS)\n",
        "\n",
        "cm=confusion_matrix(yd,ydp)\n",
        "print(\"La matriz de confusión es:\")\n",
        "print(cm)\n"
      ],
      "metadata": {
        "colab": {
          "base_uri": "https://localhost:8080/"
        },
        "id": "IXchjcmK7cMu",
        "outputId": "e85eb5b0-86fa-4c68-a40e-37da761c5068"
      },
      "execution_count": null,
      "outputs": [
        {
          "output_type": "stream",
          "name": "stdout",
          "text": [
            "la media de las variables por categoría:\n",
            "[[1.83810742e+01 1.07612958e+01 1.03324808e+01 4.74168798e+00\n",
            "  2.20272805e+01 6.72148338e+01 1.48857630e+02 3.03672506e+04]\n",
            " [1.83569845e+01 1.11769401e+01 1.12565410e+01 4.68780488e+00\n",
            "  2.26004435e+01 6.69031042e+01 1.44760976e+02 3.34278929e+04]]\n",
            "El límite inferior de la variación de las variables por categoría es\n",
            "[[ 1.58996876e+01  7.58892579e+00  6.46311334e+00  2.16621834e+00\n",
            "   1.78344685e+01  6.31369799e+01  1.18746964e+02 -1.33465823e+03]\n",
            " [ 1.58811112e+01  7.79013864e+00  7.15097738e+00  2.24996381e+00\n",
            "   1.84154526e+01  6.26897933e+01  1.14669654e+02 -2.69533531e+03]]\n",
            "El límite superior de la variación de las variables por categoría es:\n",
            "[[2.08624608e+01 1.39336659e+01 1.42018483e+01 7.31715762e+00\n",
            "  2.62200925e+01 7.12926877e+01 1.78968296e+02 6.20691595e+04]\n",
            " [2.08328577e+01 1.45637416e+01 1.53621047e+01 7.12564594e+00\n",
            "  2.67854344e+01 7.11164151e+01 1.74852297e+02 6.95511211e+04]]\n",
            "La matriz de confusión es:\n",
            "[[   2 1171]\n",
            " [   4 4506]]\n"
          ]
        }
      ]
    },
    {
      "cell_type": "markdown",
      "source": [
        "3. Se procede con la evaluación del modelo\n"
      ],
      "metadata": {
        "id": "U1gcTOiK33ba"
      }
    },
    {
      "cell_type": "code",
      "source": [
        "VN=cm[0,0]\n",
        "FP=cm[0,1]\n",
        "FN=cm[1,0]\n",
        "VP=cm[1,1]\n",
        "\n",
        "Exactitud=(VP+VN)/len(XD)\n",
        "print(\"La Exactitud es:\", Exactitud)\n",
        "\n",
        "TE=(FN+FP)/len(XD)\n",
        "print(\"La Tasa de Error es:\", TE)\n",
        "\n",
        "Sensibilidad=VP/(VP+FP)\n",
        "print(\"La Sensibilidad es:\", Sensibilidad)\n",
        "\n",
        "Especificidad=VN/(VN+FN)\n",
        "print(\"La Especificidad es:\", Especificidad)\n",
        "\n",
        "Precisión=VP/(VP+FN)\n",
        "print(\"La Precisión es:\", Precisión)\n",
        "\n",
        "PredNeg=VN/(VN+FP)\n",
        "print(\"La Probabilidad de Negativo es:\", PredNeg)"
      ],
      "metadata": {
        "colab": {
          "base_uri": "https://localhost:8080/"
        },
        "id": "3LcPTC-z4GNP",
        "outputId": "427d8ed5-de14-4920-b28a-166dcc2ea859"
      },
      "execution_count": null,
      "outputs": [
        {
          "output_type": "stream",
          "name": "stdout",
          "text": [
            "La Exactitud es: 0.7932430054548654\n",
            "La Tasa de Error es: 0.2067569945451346\n",
            "La Sensibilidad es: 0.793729082261758\n",
            "La Especificidad es: 0.3333333333333333\n",
            "La Precisión es: 0.9991130820399113\n",
            "La Probabilidad de Negativo es: 0.0017050298380221654\n"
          ]
        }
      ]
    },
    {
      "cell_type": "markdown",
      "source": [
        "4. Qué pasa con una sola persona"
      ],
      "metadata": {
        "id": "VXGyLcv54YUn"
      }
    },
    {
      "cell_type": "code",
      "source": [
        "Xun=np.array([[34,9,6,65,135,50000,30,3]])\n",
        "ydun=mnb.predict(Xun)\n",
        "print(ydun)"
      ],
      "metadata": {
        "colab": {
          "base_uri": "https://localhost:8080/"
        },
        "id": "w2OmrcnT4b5L",
        "outputId": "d2ec8fb3-afb4-47e2-ffa0-2df613010d6d"
      },
      "execution_count": null,
      "outputs": [
        {
          "output_type": "stream",
          "name": "stdout",
          "text": [
            "[1.]\n"
          ]
        }
      ]
    },
    {
      "cell_type": "markdown",
      "source": [
        "**Análisis de Resultados:**\n",
        "\n",
        " De los resultados arrojados por el modelo, se puede observar que el número total de datos de la base de datos es 5683. Es pertinente mencionar que después de ver los resultados, el porcentaje de personas que viven en zonas urbanas es de 79.36%, a diferencia de un 20.64% de personas que viven en zona rural. Al ver los intervalos, fue interesante ver el comportamiento de dos variables, Edad y Tamaño Familiar que no cambiaron los límites inferiores y superiores entre las personas viviendo en zonas urbanas y rurales. Por otro lado, se puede analizar cómo la Educación de la Madre y la Altura fueron semejantes en sus resultados de urbano y rural, mas no iguales. Por el contrario, en peso e ingresos se ve una diferencia significativa. Más aún, se pudó encontrar valores muy altos respecto a la evaluación del modelo, con una precisión del 99.91%, una sensibilidad de 79.37% y una exactitud de 79.32%. No obstante, se vio una especificidad del 33.33%, con una tasa de error del 21.68%. Por último, la probabilidad de negativo fue de un 0.17%.\n",
        "\n",
        "Adicionalmente, se pudo analizar el caso de una persona con unas características específicas y se concluyó por medio del modelo Naive Bayes que vivía en la ciudad."
      ],
      "metadata": {
        "id": "FmCiue2qMXbG"
      }
    },
    {
      "cell_type": "code",
      "source": [],
      "metadata": {
        "id": "odRYo36YT5JG"
      },
      "execution_count": null,
      "outputs": []
    },
    {
      "cell_type": "code",
      "source": [],
      "metadata": {
        "id": "ziRAMqBPUA0b"
      },
      "execution_count": null,
      "outputs": []
    }
  ]
}